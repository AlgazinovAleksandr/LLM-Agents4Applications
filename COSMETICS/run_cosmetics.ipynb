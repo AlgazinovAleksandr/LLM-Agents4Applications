{
 "cells": [
  {
   "cell_type": "code",
   "execution_count": 1,
   "id": "ed84ea6d",
   "metadata": {},
   "outputs": [
    {
     "name": "stdout",
     "output_type": "stream",
     "text": [
      "Using model: deepseek/deepseek-chat-v3.1:free\n"
     ]
    }
   ],
   "source": [
    "from autogen import AssistantAgent, UserProxyAgent\n",
    "import re\n",
    "import json\n",
    "import os\n",
    "from dotenv import load_dotenv\n",
    "load_dotenv()\n",
    "model_name = os.getenv(\"model_name\")\n",
    "base_url = os.getenv(\"base_url\")\n",
    "api_key = os.getenv(\"api_key\")\n",
    "\n",
    "# Helper function to save the JSON-like string to a file\n",
    "def save_json_like_string(json_like_str, filename):\n",
    "    # Remove TERMINATE and strip whitespace\n",
    "    cleaned = re.sub(r'TERMINATE\\s*$', '', json_like_str.strip())\n",
    "    # Remove unnecessary newlines (but keep inside strings)\n",
    "    cleaned = cleaned.replace('\\n', '')\n",
    "    # Parse the string to a Python dict\n",
    "    try:\n",
    "        data = json.loads(cleaned)\n",
    "    except json.JSONDecodeError as e:\n",
    "        print(\"Error decoding JSON:\", e)\n",
    "        return\n",
    "    # Save to file\n",
    "    with open(filename, 'w', encoding='utf-8') as f:\n",
    "        json.dump(data, f, indent=2, ensure_ascii=False)\n",
    "\n",
    "# Configuration for the language model\n",
    "print(\"Using model:\", model_name)\n",
    "llm_config = {\"config_list\": [{\n",
    "            \"model\": model_name,  # or other supported model IDs\n",
    "            \"base_url\": base_url,\n",
    "            \"api_key\": api_key,\n",
    "        }]}\n",
    "\n",
    "\n",
    "# Define the system prompt\n",
    "system_prompt_cosmetics = \"\"\"You will get an idea from the user regarding the cosmetics they want to create. Analyze the idea and create a detailed formula for a cosmetic product that meets the user's objectives. The formula should include the following sections:\n",
    "1. Product Name: A catchy and relevant name for the cosmetic product.\n",
    "2. Description: A brief description of the product, its benefits, and its target audience.\n",
    "3. Ingredients: A detailed list of ingredients, including their functions and concentrations.\n",
    "4. Instructions for Use: Clear and concise instructions on how to use the product.\n",
    "5. Packaging: Suggestions for packaging that aligns with the product's branding and target audience.\n",
    "6. Safety and Regulatory Information: Any necessary safety warnings or regulatory information.\n",
    "7. Additional Notes: Any other relevant information or tips for the user.\n",
    "Return the formula in a structured format, such as JSON or a well-organized text format. \n",
    "After the formula is created, return \"TERMINATE\" to end the conversation.\n",
    "\"\"\"\n",
    "\n",
    "# Create the formula creator agent with the defined system prompt\n",
    "formula_creator = AssistantAgent(\n",
    "    name=\"Formula_Creator\",\n",
    "    system_message=system_prompt_cosmetics,\n",
    "    llm_config=llm_config,\n",
    ")\n",
    "\n",
    "# Define the user proxy agent to simulate user input and start the chat\n",
    "user_proxy_cosmetics = UserProxyAgent(\n",
    "        name=\"User\",\n",
    "        human_input_mode=\"NEVER\", # Set to \"ALWAYS\" to allow and ask for human input\n",
    "        max_consecutive_auto_reply=10,\n",
    "        is_termination_msg=lambda x: x.get(\"content\", \"\").strip().endswith(\"TERMINATE\"),\n",
    "        code_execution_config={\"work_dir\": \"coding\", \"use_docker\": False},\n",
    "    )\n",
    "    \n"
   ]
  },
  {
   "cell_type": "code",
   "execution_count": 2,
   "id": "a64db302",
   "metadata": {},
   "outputs": [
    {
     "name": "stdout",
     "output_type": "stream",
     "text": [
      "\u001b[33mUser\u001b[0m (to Formula_Creator):\n",
      "\n",
      "Create shampoo for women\n",
      "\n",
      "--------------------------------------------------------------------------------\n",
      "[autogen.oai.client: 09-22 11:02:00] {652} WARNING - Model deepseek/deepseek-chat-v3.1:free is not found. The cost will be 0. In your config_list, add field {\"price\" : [prompt_price_per_1k, completion_token_price_per_1k]} for customized pricing.\n",
      "\u001b[33mFormula_Creator\u001b[0m (to User):\n",
      "\n",
      "{\n",
      "  \"Product Name\": \"Luminous Locks Revitalizing Shampoo\",\n",
      "  \"Description\": \"A gentle yet effective shampoo designed to cleanse, nourish, and revitalize women's hair. It deeply hydrates, reduces frizz, enhances shine, and protects hair from environmental stressors. Ideal for all hair types, especially those seeking softness, volume, and long-term hair health.\",\n",
      "  \"Ingredients\": [\n",
      "    {\"Ingredient\": \"Aqua (Water)\", \"Function\": \"Solvent/base\", \"Concentration\": \"q.s. to 100%\"},\n",
      "    {\"Ingredient\": \"Sodium Lauryl Sulfoacetate\", \"Function\": \"Gentle surfactant\", \"Concentration\": \"10-12%\"},\n",
      "    {\"Ingredient\": \"Cocamidopropyl Betaine\", \"Function\": \"Foam booster/secondary surfactant\", \"Concentration\": \"5-7%\"},\n",
      "    {\"Ingredient\": \"Glycerin\", \"Function\": \"Humectant/moisturizer\", \"Concentration\": \"3-5%\"},\n",
      "    {\"Ingredient\": \"Argan Oil\", \"Function\": \"Nourishment/shine enhancer\", \"Concentration\": \"2-3%\"},\n",
      "    {\"Ingredient\": \"Panthenol (Pro-Vitamin B5)\", \"Function\": \"Strengthens and adds elasticity\", \"Concentration\": \"1-2%\"},\n",
      "    {\"Ingredient\": \"Hydrolyzed Keratin\", \"Function\": \"Repairs and smooths hair cuticles\", \"Concentration\": \"1-2%\"},\n",
      "    {\"Ingredient\": \"Aloe Barbadensis Leaf Juice\", \"Function\": \"Soothing and hydrating\", \"Concentration\": \"1-2%\"},\n",
      "    {\"Ingredient\": \"Fragrance (Paraben-free)\", \"Function\": \"Scent\", \"Concentration\": \"0.5-1%\"},\n",
      "    {\"Ingredient\": \"Citric Acid\", \"Function\": \"pH adjuster\", \"Concentration\": \"q.s. to pH 5.5\"},\n",
      "    {\"Ingredient\": \"Sodium Chloride\", \"Function\": \"Viscosity modifier\", \"Concentration\": \"0.5-1%\"},\n",
      "    {\"Ingredient\": \"Phenoxyethanol, Ethylhexylglycerin\", \"Function\": \"Preservative\", \"Concentration\": \"0.5-1%\"}\n",
      "  ],\n",
      "  \"Instructions for Use\": \"Wet hair thoroughly with warm water. Apply a generous amount of shampoo to the scalp and massage gently to create a rich lather. Work through to the ends of the hair. Rinse completely. For best results, follow with Luminous Locks Conditioner. Use 2-3 times per week or as needed.\",\n",
      "  \"Packaging\": \"Sleek, recyclable plastic bottle (300 ml) with a flip-top cap for easy dispensing. Design features soft pastel colors (e.g., lavender or soft pink) with elegant typography to appeal to women. Optional: outer carton made from recycled paper for eco-friendliness.\",\n",
      "  \"Safety and Regulatory Information\": \"For external use only. Avoid contact with eyes. If irritation occurs, discontinue use. Keep out of reach of children. Comply with local cosmetic regulations (e.g., EU Cosmetics Regulation, FDA guidelines). Patch test recommended for sensitive skin.\",\n",
      "  \"Additional Notes\": \"Formula is sulfate-free, paraben-free, and cruelty-free. Suitable for color-treated hair. For extra hydration, recommend pairing with a matching conditioner or hair mask. Store in a cool, dry place.\"\n",
      "}\n",
      "\n",
      "TERMINATE\n",
      "\n",
      "--------------------------------------------------------------------------------\n"
     ]
    }
   ],
   "source": [
    "message_cosmetics = input('Enter your objectives for the cosmetics : ')\n",
    "chat_result = user_proxy_cosmetics.initiate_chat(\n",
    "formula_creator,\n",
    "message=message_cosmetics\n",
    ")"
   ]
  },
  {
   "cell_type": "code",
   "execution_count": 3,
   "id": "f62d0118",
   "metadata": {},
   "outputs": [
    {
     "data": {
      "text/plain": [
       "'{\\n  \"Product Name\": \"Luminous Locks Revitalizing Shampoo\",\\n  \"Description\": \"A gentle yet effective shampoo designed to cleanse, nourish, and revitalize women\\'s hair. It deeply hydrates, reduces frizz, enhances shine, and protects hair from environmental stressors. Ideal for all hair types, especially those seeking softness, volume, and long-term hair health.\",\\n  \"Ingredients\": [\\n    {\"Ingredient\": \"Aqua (Water)\", \"Function\": \"Solvent/base\", \"Concentration\": \"q.s. to 100%\"},\\n    {\"Ingredient\": \"Sodium Lauryl Sulfoacetate\", \"Function\": \"Gentle surfactant\", \"Concentration\": \"10-12%\"},\\n    {\"Ingredient\": \"Cocamidopropyl Betaine\", \"Function\": \"Foam booster/secondary surfactant\", \"Concentration\": \"5-7%\"},\\n    {\"Ingredient\": \"Glycerin\", \"Function\": \"Humectant/moisturizer\", \"Concentration\": \"3-5%\"},\\n    {\"Ingredient\": \"Argan Oil\", \"Function\": \"Nourishment/shine enhancer\", \"Concentration\": \"2-3%\"},\\n    {\"Ingredient\": \"Panthenol (Pro-Vitamin B5)\", \"Function\": \"Strengthens and adds elasticity\", \"Concentration\": \"1-2%\"},\\n    {\"Ingredient\": \"Hydrolyzed Keratin\", \"Function\": \"Repairs and smooths hair cuticles\", \"Concentration\": \"1-2%\"},\\n    {\"Ingredient\": \"Aloe Barbadensis Leaf Juice\", \"Function\": \"Soothing and hydrating\", \"Concentration\": \"1-2%\"},\\n    {\"Ingredient\": \"Fragrance (Paraben-free)\", \"Function\": \"Scent\", \"Concentration\": \"0.5-1%\"},\\n    {\"Ingredient\": \"Citric Acid\", \"Function\": \"pH adjuster\", \"Concentration\": \"q.s. to pH 5.5\"},\\n    {\"Ingredient\": \"Sodium Chloride\", \"Function\": \"Viscosity modifier\", \"Concentration\": \"0.5-1%\"},\\n    {\"Ingredient\": \"Phenoxyethanol, Ethylhexylglycerin\", \"Function\": \"Preservative\", \"Concentration\": \"0.5-1%\"}\\n  ],\\n  \"Instructions for Use\": \"Wet hair thoroughly with warm water. Apply a generous amount of shampoo to the scalp and massage gently to create a rich lather. Work through to the ends of the hair. Rinse completely. For best results, follow with Luminous Locks Conditioner. Use 2-3 times per week or as needed.\",\\n  \"Packaging\": \"Sleek, recyclable plastic bottle (300 ml) with a flip-top cap for easy dispensing. Design features soft pastel colors (e.g., lavender or soft pink) with elegant typography to appeal to women. Optional: outer carton made from recycled paper for eco-friendliness.\",\\n  \"Safety and Regulatory Information\": \"For external use only. Avoid contact with eyes. If irritation occurs, discontinue use. Keep out of reach of children. Comply with local cosmetic regulations (e.g., EU Cosmetics Regulation, FDA guidelines). Patch test recommended for sensitive skin.\",\\n  \"Additional Notes\": \"Formula is sulfate-free, paraben-free, and cruelty-free. Suitable for color-treated hair. For extra hydration, recommend pairing with a matching conditioner or hair mask. Store in a cool, dry place.\"\\n}\\n\\nTERMINATE'"
      ]
     },
     "execution_count": 3,
     "metadata": {},
     "output_type": "execute_result"
    }
   ],
   "source": [
    "formula = chat_result.chat_history[-1]['content']\n",
    "formula"
   ]
  },
  {
   "cell_type": "code",
   "execution_count": 9,
   "id": "00a9aca1",
   "metadata": {},
   "outputs": [],
   "source": [
    "save_json_like_string(formula, 'formula.json')"
   ]
  },
  {
   "cell_type": "code",
   "execution_count": null,
   "id": "531b8107",
   "metadata": {},
   "outputs": [],
   "source": []
  }
 ],
 "metadata": {
  "kernelspec": {
   "display_name": "Python 3",
   "language": "python",
   "name": "python3"
  },
  "language_info": {
   "codemirror_mode": {
    "name": "ipython",
    "version": 3
   },
   "file_extension": ".py",
   "mimetype": "text/x-python",
   "name": "python",
   "nbconvert_exporter": "python",
   "pygments_lexer": "ipython3",
   "version": "3.9.6"
  }
 },
 "nbformat": 4,
 "nbformat_minor": 5
}
