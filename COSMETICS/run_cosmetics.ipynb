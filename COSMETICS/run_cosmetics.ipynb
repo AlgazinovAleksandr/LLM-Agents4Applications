{
 "cells": [
  {
   "cell_type": "code",
   "execution_count": 2,
   "id": "a64db302",
   "metadata": {},
   "outputs": [
    {
     "name": "stdout",
     "output_type": "stream",
     "text": [
      "\u001b[33mUser\u001b[0m (to Formula_Creator):\n",
      "\n",
      "Create shampoo for women\n",
      "\n",
      "--------------------------------------------------------------------------------\n",
      "[autogen.oai.client: 09-22 11:02:00] {652} WARNING - Model deepseek/deepseek-chat-v3.1:free is not found. The cost will be 0. In your config_list, add field {\"price\" : [prompt_price_per_1k, completion_token_price_per_1k]} for customized pricing.\n",
      "\u001b[33mFormula_Creator\u001b[0m (to User):\n",
      "\n",
      "{\n",
      "  \"Product Name\": \"Luminous Locks Revitalizing Shampoo\",\n",
      "  \"Description\": \"A gentle yet effective shampoo designed to cleanse, nourish, and revitalize women's hair. It deeply hydrates, reduces frizz, enhances shine, and protects hair from environmental stressors. Ideal for all hair types, especially those seeking softness, volume, and long-term hair health.\",\n",
      "  \"Ingredients\": [\n",
      "    {\"Ingredient\": \"Aqua (Water)\", \"Function\": \"Solvent/base\", \"Concentration\": \"q.s. to 100%\"},\n",
      "    {\"Ingredient\": \"Sodium Lauryl Sulfoacetate\", \"Function\": \"Gentle surfactant\", \"Concentration\": \"10-12%\"},\n",
      "    {\"Ingredient\": \"Cocamidopropyl Betaine\", \"Function\": \"Foam booster/secondary surfactant\", \"Concentration\": \"5-7%\"},\n",
      "    {\"Ingredient\": \"Glycerin\", \"Function\": \"Humectant/moisturizer\", \"Concentration\": \"3-5%\"},\n",
      "    {\"Ingredient\": \"Argan Oil\", \"Function\": \"Nourishment/shine enhancer\", \"Concentration\": \"2-3%\"},\n",
      "    {\"Ingredient\": \"Panthenol (Pro-Vitamin B5)\", \"Function\": \"Strengthens and adds elasticity\", \"Concentration\": \"1-2%\"},\n",
      "    {\"Ingredient\": \"Hydrolyzed Keratin\", \"Function\": \"Repairs and smooths hair cuticles\", \"Concentration\": \"1-2%\"},\n",
      "    {\"Ingredient\": \"Aloe Barbadensis Leaf Juice\", \"Function\": \"Soothing and hydrating\", \"Concentration\": \"1-2%\"},\n",
      "    {\"Ingredient\": \"Fragrance (Paraben-free)\", \"Function\": \"Scent\", \"Concentration\": \"0.5-1%\"},\n",
      "    {\"Ingredient\": \"Citric Acid\", \"Function\": \"pH adjuster\", \"Concentration\": \"q.s. to pH 5.5\"},\n",
      "    {\"Ingredient\": \"Sodium Chloride\", \"Function\": \"Viscosity modifier\", \"Concentration\": \"0.5-1%\"},\n",
      "    {\"Ingredient\": \"Phenoxyethanol, Ethylhexylglycerin\", \"Function\": \"Preservative\", \"Concentration\": \"0.5-1%\"}\n",
      "  ],\n",
      "  \"Instructions for Use\": \"Wet hair thoroughly with warm water. Apply a generous amount of shampoo to the scalp and massage gently to create a rich lather. Work through to the ends of the hair. Rinse completely. For best results, follow with Luminous Locks Conditioner. Use 2-3 times per week or as needed.\",\n",
      "  \"Packaging\": \"Sleek, recyclable plastic bottle (300 ml) with a flip-top cap for easy dispensing. Design features soft pastel colors (e.g., lavender or soft pink) with elegant typography to appeal to women. Optional: outer carton made from recycled paper for eco-friendliness.\",\n",
      "  \"Safety and Regulatory Information\": \"For external use only. Avoid contact with eyes. If irritation occurs, discontinue use. Keep out of reach of children. Comply with local cosmetic regulations (e.g., EU Cosmetics Regulation, FDA guidelines). Patch test recommended for sensitive skin.\",\n",
      "  \"Additional Notes\": \"Formula is sulfate-free, paraben-free, and cruelty-free. Suitable for color-treated hair. For extra hydration, recommend pairing with a matching conditioner or hair mask. Store in a cool, dry place.\"\n",
      "}\n",
      "\n",
      "TERMINATE\n",
      "\n",
      "--------------------------------------------------------------------------------\n"
     ]
    }
   ],
   "source": [
    "message_cosmetics = input('Enter your objectives for the cosmetics : ')\n",
    "chat_result = user_proxy_cosmetics.initiate_chat(\n",
    "formula_creator,\n",
    "message=message_cosmetics\n",
    ")"
   ]
  },
  {
   "cell_type": "code",
   "execution_count": 3,
   "id": "f62d0118",
   "metadata": {},
   "outputs": [
    {
     "data": {
      "text/plain": [
       "'{\\n  \"Product Name\": \"Luminous Locks Revitalizing Shampoo\",\\n  \"Description\": \"A gentle yet effective shampoo designed to cleanse, nourish, and revitalize women\\'s hair. It deeply hydrates, reduces frizz, enhances shine, and protects hair from environmental stressors. Ideal for all hair types, especially those seeking softness, volume, and long-term hair health.\",\\n  \"Ingredients\": [\\n    {\"Ingredient\": \"Aqua (Water)\", \"Function\": \"Solvent/base\", \"Concentration\": \"q.s. to 100%\"},\\n    {\"Ingredient\": \"Sodium Lauryl Sulfoacetate\", \"Function\": \"Gentle surfactant\", \"Concentration\": \"10-12%\"},\\n    {\"Ingredient\": \"Cocamidopropyl Betaine\", \"Function\": \"Foam booster/secondary surfactant\", \"Concentration\": \"5-7%\"},\\n    {\"Ingredient\": \"Glycerin\", \"Function\": \"Humectant/moisturizer\", \"Concentration\": \"3-5%\"},\\n    {\"Ingredient\": \"Argan Oil\", \"Function\": \"Nourishment/shine enhancer\", \"Concentration\": \"2-3%\"},\\n    {\"Ingredient\": \"Panthenol (Pro-Vitamin B5)\", \"Function\": \"Strengthens and adds elasticity\", \"Concentration\": \"1-2%\"},\\n    {\"Ingredient\": \"Hydrolyzed Keratin\", \"Function\": \"Repairs and smooths hair cuticles\", \"Concentration\": \"1-2%\"},\\n    {\"Ingredient\": \"Aloe Barbadensis Leaf Juice\", \"Function\": \"Soothing and hydrating\", \"Concentration\": \"1-2%\"},\\n    {\"Ingredient\": \"Fragrance (Paraben-free)\", \"Function\": \"Scent\", \"Concentration\": \"0.5-1%\"},\\n    {\"Ingredient\": \"Citric Acid\", \"Function\": \"pH adjuster\", \"Concentration\": \"q.s. to pH 5.5\"},\\n    {\"Ingredient\": \"Sodium Chloride\", \"Function\": \"Viscosity modifier\", \"Concentration\": \"0.5-1%\"},\\n    {\"Ingredient\": \"Phenoxyethanol, Ethylhexylglycerin\", \"Function\": \"Preservative\", \"Concentration\": \"0.5-1%\"}\\n  ],\\n  \"Instructions for Use\": \"Wet hair thoroughly with warm water. Apply a generous amount of shampoo to the scalp and massage gently to create a rich lather. Work through to the ends of the hair. Rinse completely. For best results, follow with Luminous Locks Conditioner. Use 2-3 times per week or as needed.\",\\n  \"Packaging\": \"Sleek, recyclable plastic bottle (300 ml) with a flip-top cap for easy dispensing. Design features soft pastel colors (e.g., lavender or soft pink) with elegant typography to appeal to women. Optional: outer carton made from recycled paper for eco-friendliness.\",\\n  \"Safety and Regulatory Information\": \"For external use only. Avoid contact with eyes. If irritation occurs, discontinue use. Keep out of reach of children. Comply with local cosmetic regulations (e.g., EU Cosmetics Regulation, FDA guidelines). Patch test recommended for sensitive skin.\",\\n  \"Additional Notes\": \"Formula is sulfate-free, paraben-free, and cruelty-free. Suitable for color-treated hair. For extra hydration, recommend pairing with a matching conditioner or hair mask. Store in a cool, dry place.\"\\n}\\n\\nTERMINATE'"
      ]
     },
     "execution_count": 3,
     "metadata": {},
     "output_type": "execute_result"
    }
   ],
   "source": [
    "formula = chat_result.chat_history[-1]['content']\n",
    "formula"
   ]
  },
  {
   "cell_type": "code",
   "execution_count": 9,
   "id": "00a9aca1",
   "metadata": {},
   "outputs": [],
   "source": [
    "save_json_like_string(formula, 'formula.json')"
   ]
  },
  {
   "cell_type": "code",
   "execution_count": null,
   "id": "531b8107",
   "metadata": {},
   "outputs": [],
   "source": []
  }
 ],
 "metadata": {
  "kernelspec": {
   "display_name": "Python 3",
   "language": "python",
   "name": "python3"
  },
  "language_info": {
   "codemirror_mode": {
    "name": "ipython",
    "version": 3
   },
   "file_extension": ".py",
   "mimetype": "text/x-python",
   "name": "python",
   "nbconvert_exporter": "python",
   "pygments_lexer": "ipython3",
   "version": "3.9.6"
  }
 },
 "nbformat": 4,
 "nbformat_minor": 5
}
