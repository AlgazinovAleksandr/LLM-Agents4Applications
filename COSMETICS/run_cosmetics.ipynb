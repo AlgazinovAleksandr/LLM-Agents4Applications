{
 "cells": [
  {
   "cell_type": "code",
   "execution_count": 8,
   "id": "ed84ea6d",
   "metadata": {},
   "outputs": [
    {
     "name": "stdout",
     "output_type": "stream",
     "text": [
      "Using model: deepseek/deepseek-chat-v3.1:free\n"
     ]
    }
   ],
   "source": [
    "from autogen import AssistantAgent, UserProxyAgent\n",
    "from constants import model_name, base_url, api_key\n",
    "import re\n",
    "import json\n",
    "\n",
    "# Helper function to save the JSON-like string to a file\n",
    "def save_json_like_string(json_like_str, filename):\n",
    "    # Remove TERMINATE and strip whitespace\n",
    "    cleaned = re.sub(r'TERMINATE\\s*$', '', json_like_str.strip())\n",
    "    # Remove unnecessary newlines (but keep inside strings)\n",
    "    cleaned = cleaned.replace('\\n', '')\n",
    "    # Parse the string to a Python dict\n",
    "    try:\n",
    "        data = json.loads(cleaned)\n",
    "    except json.JSONDecodeError as e:\n",
    "        print(\"Error decoding JSON:\", e)\n",
    "        return\n",
    "    # Save to file\n",
    "    with open(filename, 'w', encoding='utf-8') as f:\n",
    "        json.dump(data, f, indent=2, ensure_ascii=False)\n",
    "\n",
    "# Configuration for the language model\n",
    "print(\"Using model:\", model_name)\n",
    "llm_config = {\"config_list\": [{\n",
    "            \"model\": model_name,  # or other supported model IDs\n",
    "            \"base_url\": base_url,\n",
    "            \"api_key\": api_key,\n",
    "        }]}\n",
    "\n",
    "\n",
    "# Define the system prompt\n",
    "system_prompt_cosmetics = \"\"\"You will get an idea from the user regarding the cosmetics they want to create. Analyze the idea and create a detailed formula for a cosmetic product that meets the user's objectives. The formula should include the following sections:\n",
    "1. Product Name: A catchy and relevant name for the cosmetic product.\n",
    "2. Description: A brief description of the product, its benefits, and its target audience.\n",
    "3. Ingredients: A detailed list of ingredients, including their functions and concentrations.\n",
    "4. Instructions for Use: Clear and concise instructions on how to use the product.\n",
    "5. Packaging: Suggestions for packaging that aligns with the product's branding and target audience.\n",
    "6. Safety and Regulatory Information: Any necessary safety warnings or regulatory information.\n",
    "7. Additional Notes: Any other relevant information or tips for the user.\n",
    "Return the formula in a structured format, such as JSON or a well-organized text format. \n",
    "After the formula is created, return \"TERMINATE\" to end the conversation.\n",
    "\"\"\"\n",
    "\n",
    "# Create the formula creator agent with the defined system prompt\n",
    "formula_creator = AssistantAgent(\n",
    "    name=\"Formula_Creator\",\n",
    "    system_message=system_prompt_cosmetics,\n",
    "    llm_config=llm_config,\n",
    ")\n",
    "\n",
    "# Define the user proxy agent to simulate user input and start the chat\n",
    "user_proxy_cosmetics = UserProxyAgent(\n",
    "        name=\"User\",\n",
    "        human_input_mode=\"NEVER\", # Set to \"ALWAYS\" to allow and ask for human input\n",
    "        max_consecutive_auto_reply=10,\n",
    "        is_termination_msg=lambda x: x.get(\"content\", \"\").strip().endswith(\"TERMINATE\"),\n",
    "        code_execution_config={\"work_dir\": \"coding\", \"use_docker\": False},\n",
    "    )\n",
    "    \n"
   ]
  },
  {
   "cell_type": "code",
   "execution_count": 5,
   "id": "a64db302",
   "metadata": {},
   "outputs": [
    {
     "name": "stdout",
     "output_type": "stream",
     "text": [
      "\u001b[33mUser\u001b[0m (to Formula_Creator):\n",
      "\n",
      "I want a premium shampoo for men. Should smell good, be of a good color, and clean well (in particular, suitable for oily hair)\n",
      "\n",
      "--------------------------------------------------------------------------------\n",
      "[autogen.oai.client: 09-22 09:42:16] {652} WARNING - Model deepseek/deepseek-chat-v3.1:free is not found. The cost will be 0. In your config_list, add field {\"price\" : [prompt_price_per_1k, completion_token_price_per_1k]} for customized pricing.\n",
      "\u001b[33mFormula_Creator\u001b[0m (to User):\n",
      "\n",
      "{\n",
      "  \"ProductName\": \"Apex Cleanse - Men's Premium Clarifying Shampoo\",\n",
      "  \"Description\": \"Apex Cleanse is a premium clarifying shampoo designed specifically for men with oily hair. It deeply cleanses the scalp and hair, removing excess oil and impurities without stripping natural moisture. Infused with a sophisticated masculine scent of cedarwood and bergamot, it leaves hair feeling fresh, light, and revitalized. The rich, deep blue color enhances the premium experience. Ideal for active men seeking a reliable daily cleanser that combats oiliness while providing a luxurious feel.\",\n",
      "  \"Ingredients\": [\n",
      "    {\"Ingredient\": \"Aqua\", \"Function\": \"Solvent base\", \"Concentration\": \"To 100%\"},\n",
      "    {\"Ingredient\": \"Sodium Lauryl Sulfoacetate\", \"Function\": \"Gentle surfactant\", \"Concentration\": \"12%\"},\n",
      "    {\"Ingredient\": \"Cocamidopropyl Betaine\", \"Function\": \"Foam booster, mild cleanser\", \"Concentration\": \"5%\"},\n",
      "    {\"Ingredient\": \"Glycerin\", \"Function\": \"Humectant, moisture retention\", \"Concentration\": \"3%\"},\n",
      "    {\"Ingredient\": \"Salicylic Acid\", \"Function\": \"Exfoliant, oil control\", \"Concentration\": \"1.5%\"},\n",
      "    {\"Ingredient\": \"Caffeine\", \"Function\": \"Stimulates scalp, reduces oil production\", \"Concentration\": \"0.5%\"},\n",
      "    {\"Ingredient\": \"Cedarwood Essential Oil\", \"Function\": \"Fragrance, antiseptic\", \"Concentration\": \"0.3%\"},\n",
      "    {\"Ingredient\": \"Bergamot Essential Oil\", \"Function\": \"Fragrance, uplifting scent\", \"Concentration\": \"0.2%\"},\n",
      "    {\"Ingredient\": \"Panthenol (Pro-Vitamin B5)\", \"Function\": \"Conditioner, strengthens hair\", \"Concentration\": \"1%\"},\n",
      "    {\"Ingredient\": \"Blue 1 (CI 42090)\", \"Function\": \"Colorant\", \"Concentration\": \"0.001%\"},\n",
      "    {\"Ingredient\": \"Citric Acid\", \"Function\": \"pH adjuster\", \"Concentration\": \"q.s.\"},\n",
      "    {\"Ingredient\": \"Sodium Benzoate\", \"Function\": \"Preservative\", \"Concentration\": \"0.5%\"},\n",
      "    {\"Ingredient\": \"Potassium Sorbate\", \"Function\": \"Preservative\", \"Concentration\": \"0.2%\"}\n",
      "  ],\n",
      "  \"InstructionsForUse\": \"Wet hair thoroughly. Apply a quarter-sized amount of shampoo to palms, lather, and massage into scalp and hair for 1-2 minutes. Rinse completely. For best results, use daily or as needed.\",\n",
      "  \"Packaging\": \"Sleek, matte black plastic bottle with a pump dispenser for easy use and minimal waste. Accented with silver text and a subtle blue tint to reflect the product color. Bottle size: 250ml. Outer packaging: Recyclable cardboard box with premium finish.\",\n",
      "  \"SafetyAndRegulatoryInformation\": \"For external use only. Avoid contact with eyes. If irritation occurs, discontinue use. Keep out of reach of children. Comply with local cosmetic regulations (e.g., EU Cosmetics Regulation, FDA guidelines). Patch test recommended for sensitive skin.\",\n",
      "  \"AdditionalNotes\": \"Formula is sulfate-free for gentler cleansing. The fragrance blend is long-lasting but not overpowering. Suitable for all hair types, especially effective for oily hair. Store in a cool, dry place.\"\n",
      "}\n",
      "\n",
      "TERMINATE\n",
      "\n",
      "--------------------------------------------------------------------------------\n"
     ]
    }
   ],
   "source": [
    "message_cosmetics = input('Enter your objectives for the cosmetics : ')\n",
    "chat_result = user_proxy_cosmetics.initiate_chat(\n",
    "formula_creator,\n",
    "message=message_cosmetics\n",
    ")"
   ]
  },
  {
   "cell_type": "code",
   "execution_count": 6,
   "id": "f62d0118",
   "metadata": {},
   "outputs": [
    {
     "data": {
      "text/plain": [
       "'{\\n  \"ProductName\": \"Apex Cleanse - Men\\'s Premium Clarifying Shampoo\",\\n  \"Description\": \"Apex Cleanse is a premium clarifying shampoo designed specifically for men with oily hair. It deeply cleanses the scalp and hair, removing excess oil and impurities without stripping natural moisture. Infused with a sophisticated masculine scent of cedarwood and bergamot, it leaves hair feeling fresh, light, and revitalized. The rich, deep blue color enhances the premium experience. Ideal for active men seeking a reliable daily cleanser that combats oiliness while providing a luxurious feel.\",\\n  \"Ingredients\": [\\n    {\"Ingredient\": \"Aqua\", \"Function\": \"Solvent base\", \"Concentration\": \"To 100%\"},\\n    {\"Ingredient\": \"Sodium Lauryl Sulfoacetate\", \"Function\": \"Gentle surfactant\", \"Concentration\": \"12%\"},\\n    {\"Ingredient\": \"Cocamidopropyl Betaine\", \"Function\": \"Foam booster, mild cleanser\", \"Concentration\": \"5%\"},\\n    {\"Ingredient\": \"Glycerin\", \"Function\": \"Humectant, moisture retention\", \"Concentration\": \"3%\"},\\n    {\"Ingredient\": \"Salicylic Acid\", \"Function\": \"Exfoliant, oil control\", \"Concentration\": \"1.5%\"},\\n    {\"Ingredient\": \"Caffeine\", \"Function\": \"Stimulates scalp, reduces oil production\", \"Concentration\": \"0.5%\"},\\n    {\"Ingredient\": \"Cedarwood Essential Oil\", \"Function\": \"Fragrance, antiseptic\", \"Concentration\": \"0.3%\"},\\n    {\"Ingredient\": \"Bergamot Essential Oil\", \"Function\": \"Fragrance, uplifting scent\", \"Concentration\": \"0.2%\"},\\n    {\"Ingredient\": \"Panthenol (Pro-Vitamin B5)\", \"Function\": \"Conditioner, strengthens hair\", \"Concentration\": \"1%\"},\\n    {\"Ingredient\": \"Blue 1 (CI 42090)\", \"Function\": \"Colorant\", \"Concentration\": \"0.001%\"},\\n    {\"Ingredient\": \"Citric Acid\", \"Function\": \"pH adjuster\", \"Concentration\": \"q.s.\"},\\n    {\"Ingredient\": \"Sodium Benzoate\", \"Function\": \"Preservative\", \"Concentration\": \"0.5%\"},\\n    {\"Ingredient\": \"Potassium Sorbate\", \"Function\": \"Preservative\", \"Concentration\": \"0.2%\"}\\n  ],\\n  \"InstructionsForUse\": \"Wet hair thoroughly. Apply a quarter-sized amount of shampoo to palms, lather, and massage into scalp and hair for 1-2 minutes. Rinse completely. For best results, use daily or as needed.\",\\n  \"Packaging\": \"Sleek, matte black plastic bottle with a pump dispenser for easy use and minimal waste. Accented with silver text and a subtle blue tint to reflect the product color. Bottle size: 250ml. Outer packaging: Recyclable cardboard box with premium finish.\",\\n  \"SafetyAndRegulatoryInformation\": \"For external use only. Avoid contact with eyes. If irritation occurs, discontinue use. Keep out of reach of children. Comply with local cosmetic regulations (e.g., EU Cosmetics Regulation, FDA guidelines). Patch test recommended for sensitive skin.\",\\n  \"AdditionalNotes\": \"Formula is sulfate-free for gentler cleansing. The fragrance blend is long-lasting but not overpowering. Suitable for all hair types, especially effective for oily hair. Store in a cool, dry place.\"\\n}\\n\\nTERMINATE'"
      ]
     },
     "execution_count": 6,
     "metadata": {},
     "output_type": "execute_result"
    }
   ],
   "source": [
    "formula = chat_result.chat_history[-1]['content']\n",
    "formula"
   ]
  },
  {
   "cell_type": "code",
   "execution_count": 9,
   "id": "00a9aca1",
   "metadata": {},
   "outputs": [],
   "source": [
    "save_json_like_string(formula, 'formula.json')"
   ]
  },
  {
   "cell_type": "code",
   "execution_count": null,
   "id": "531b8107",
   "metadata": {},
   "outputs": [],
   "source": []
  }
 ],
 "metadata": {
  "kernelspec": {
   "display_name": "Python 3",
   "language": "python",
   "name": "python3"
  },
  "language_info": {
   "codemirror_mode": {
    "name": "ipython",
    "version": 3
   },
   "file_extension": ".py",
   "mimetype": "text/x-python",
   "name": "python",
   "nbconvert_exporter": "python",
   "pygments_lexer": "ipython3",
   "version": "3.9.6"
  }
 },
 "nbformat": 4,
 "nbformat_minor": 5
}
